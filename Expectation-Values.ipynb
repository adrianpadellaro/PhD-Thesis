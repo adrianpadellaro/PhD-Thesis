{
 "cells": [
  {
   "cell_type": "code",
   "execution_count": 1,
   "metadata": {},
   "outputs": [],
   "source": [
    "## Define Polynomial ring QQ[N], Partition algebras P_1(N) and P_2(N)\n",
    "R.<N> = QQ[]\n",
    "P1N = PartitionAlgebra(1,N)\n",
    "P2N = PartitionAlgebra(2,N)"
   ]
  },
  {
   "cell_type": "code",
   "execution_count": 2,
   "metadata": {},
   "outputs": [],
   "source": [
    "## We define the projector on the first slot in the vacillating tableau\n",
    "def P_R1(R1):\n",
    "    R.<N> = QQ[]\n",
    "## Construct T2 \\otimes \\idn \\otimes \\idn defined in equation (3.42)\n",
    "    Z1 = P2N(sum(P1N.jucys_murphy_element(i/2) for i in [1..2])+(N*(N-1)/2-N)*P1N.one())\n",
    "## Define the set of irreps and corresponding normalized characters to take a product over in equation (3.52)\n",
    "    IrrepsEigenvaluesDictionary = {Partition([]): R(1/2*(N-1)*N), Partition([1]): R((N-3)*N/2)}\n",
    "    numerator = prod((Z1-ev2*P2N.one()) for (rep, ev2) in IrrepsEigenvaluesDictionary.items() if rep != R1)\n",
    "    denom = prod(IrrepsEigenvaluesDictionary[R1]-ev2 for (rep,ev2) in IrrepsEigenvaluesDictionary.items() if rep != R1)\n",
    "    return numerator, denom\n",
    "## We define the projector on the second slot in the vacillating tableau\n",
    "def P_R2(R2):\n",
    "    R.<N> = QQ[]\n",
    "## Construct T2 \\otimes \\idn \\otimes \\idn defined in equation (3.42)\n",
    "    Z32 = P2N(sum(P2N.jucys_murphy_element(i/2) for i in [1..3])+(N*(N-1)/2-2*N+1)*P2N.one())\n",
    "## Define the set of irreps and corresponding normalized characters to take a product over in equation (3.52)\n",
    "    IrrepsEigenvaluesDictionary = {Partition([]): R(1/2*(N-2)*(N-1)), Partition([1]): R((N-4)*(N-1)/2)}\n",
    "    numerator = prod((Z32-ev2*P2N.one()) for (rep, ev2) in IrrepsEigenvaluesDictionary.items() if rep != R2)\n",
    "    denom = prod(IrrepsEigenvaluesDictionary[R2]-ev2 for (rep,ev2) in IrrepsEigenvaluesDictionary.items() if rep != R2)\n",
    "    return numerator, denom\n",
    "## We define the projector on the third slot in the vacillating tableau\n",
    "def P_R3(R3):\n",
    "    R.<N> = QQ[]\n",
    "## Construct T2 \\otimes \\idn \\otimes \\idn defined in equation (3.42)\n",
    "    Z2 = P2N(sum(P2N.jucys_murphy_element(i/2) for i in [1..4])+(N*(N-1)/2-2*N)*P2N.one())\n",
    "## Define the set of irreps and corresponding normalized characters to take a product over in equation (3.52)\n",
    "    IrrepsEigenvaluesDictionary = {Partition([]): R(1/2*(N-1)*N), Partition([1]): R((N-3)*N/2), Partition([2]): R(1/2*(N - 1)*(N - 4)), Partition([1,1]): R(1/2*(N - 5)*N)}\n",
    "    numerator = prod((Z2-ev2*P2N.one()) for (rep, ev2) in IrrepsEigenvaluesDictionary.items() if rep != R3)\n",
    "    denom = prod(IrrepsEigenvaluesDictionary[R3]-ev2 for (rep,ev2) in IrrepsEigenvaluesDictionary.items() if rep != R3)\n",
    "    return numerator, denom"
   ]
  },
  {
   "cell_type": "code",
   "execution_count": 3,
   "metadata": {},
   "outputs": [],
   "source": [
    "## The set of all vacillating tableaux at k=2\n",
    "VacTabs = [ (Partition([]),Partition([]),Partition([])), \\\n",
    "            (Partition([]),Partition([]),Partition([1])), \\\n",
    "            (Partition([1]),Partition([1]),Partition([1])), \\\n",
    "            (Partition([1]),Partition([1]),Partition([2])), \\\n",
    "            (Partition([1]),Partition([1]),Partition([1,1])), \\\n",
    "            (Partition([1]),Partition([]),Partition([])), \\\n",
    "            (Partition([1]),Partition([]),Partition([1]))]"
   ]
  },
  {
   "cell_type": "code",
   "execution_count": 4,
   "metadata": {},
   "outputs": [],
   "source": [
    "## Some initializations\n",
    "g = {}\n",
    "k = len(VacTabs)\n",
    "## Now produce the diagram element corresponding to the connected 2-point function\n",
    "## For this we need symbolic variables corresponding to coupling constants.\n",
    "## We encode these in a dictionary\n",
    "for v1 in range(k):\n",
    "    for v2 in range(k):\n",
    "        if v2 <= v1:\n",
    "            g[(VacTabs[v1],VacTabs[v2])] = var('g_{0}{1}'.format(v1,v2))"
   ]
  },
  {
   "cell_type": "code",
   "execution_count": null,
   "metadata": {},
   "outputs": [],
   "source": [
    "## We also collect the set of normalization constants computed in section 4.3.5\n",
    "n = {}\n",
    "n[0,0] = N\n",
    "n[1,0] = N*sqrt(2/(N-1))\n",
    "n[1,1] = N/(N-1)\n",
    "n[2,2] = N\n",
    "n[3,2] = N*sqrt(2/(N-1))\n",
    "n[3,3] = N/(N-1)\n",
    "n[4,2] = sqrt(2*(N-1)/(N-2))\n",
    "n[4,3] = sqrt(2/(N-2))\n",
    "n[4,4] = (N-1)\n",
    "n[5,5] = 1\n",
    "n[6,6] = 1"
   ]
  },
  {
   "cell_type": "code",
   "execution_count": 5,
   "metadata": {},
   "outputs": [],
   "source": [
    "## We now generate all the matrix units and multiply by the corresponding coupling constant (which are symbolic)\n",
    "## For this we need to use the partition algebra over a symbolic ring\n",
    "N = var('N')\n",
    "P2SR = PartitionAlgebra(2,N,SR)\n",
    "## Some initializations\n",
    "Q = 0\n",
    "SRQ = 0\n",
    "## We now iterate over all the pairs of vacillating tableaux\n",
    "for v1 in range(k):\n",
    "    LeftZip = list(zip(P_R3(VacTabs[v1][2]),P_R2(VacTabs[v1][1]),P_R1(VacTabs[v1][0])))\n",
    "## LeftZip[0] is a list of the numerators of the three projectors for the first vacillating tableaux\n",
    "    LeftProj = prod(LeftZip[0])\n",
    "## We take their product to get the projector associated with the first vacillating tableaux\n",
    "    for v2 in range(k):\n",
    "        if v2 <= v1:\n",
    "            RightZip = list(zip(P_R3(VacTabs[v2][2]),P_R2(VacTabs[v2][1]),P_R1(VacTabs[v2][0])))\n",
    "## RightZip[0] is a list of the numerator of the three projectors for the second vacillating tableau\n",
    "            RightProj = prod(RightZip[0])\n",
    "## We take their product to get the projector associated with the second vacillating tableaux\n",
    "            ProjMatrix = LeftProj.to_matrix(side='left')*RightProj.to_matrix(side='right')\n",
    "## ProjMatrix is the matrix representing the simultaneous left action of LeftProj and right action of RightProj\n",
    "            pivot = ProjMatrix.subs(N=10).pivots()\n",
    "## Compute the pivot columns of ProjMatrix for N=10\n",
    "            if len(pivot) > 0:\n",
    "                Q = ProjMatrix.column(pivot[0])/prod(LeftZip[1])/prod(RightZip[1])\n",
    "## As long as ProjMatrix has a pivot, extract the pivot column and divide by the numerators of the projectors\n",
    "                SRQ += n[v1,v2]*g[(VacTabs[v1],VacTabs[v2])]*(P2SR.from_vector(Q)/2+ P2SR.from_vector(Q).dual()/2)\n",
    "## We take the average of the pivot column and its transpose,\n",
    "## weight it by the coupling constant associated with the pair of vacillating tableaux and add it to SRQ,\n",
    "## SRQ will correspond to the connected two-point function (propagator) in our matrix model"
   ]
  },
  {
   "cell_type": "code",
   "execution_count": 6,
   "metadata": {},
   "outputs": [],
   "source": [
    "## We define a vector space labeled by set partitions\n",
    "## It has a \"product\" that combines set partitions by concatenation of lists: see product_on_basis()\n",
    "## This product implements tensor products of diagrams\n",
    "## It has some help functions, such as\n",
    "## (1) a function that converts a partition algebra element into an element of this vector space: see from_partition_algebra()\n",
    "## (2) a function that lets you change the label set of an element: see relabel_element()\n",
    "## (3) an inner product function that computes the number of parts in the join of two set partitions (linearly extended for general elements): see inner_prod()\n",
    "class SetPartitionNA(CombinatorialFreeModule):\n",
    "    \n",
    "    def __init__(self, **keywords):\n",
    "        self._baseset = SetPartitions()\n",
    "        CombinatorialFreeModule.__init__(self, SR, self._baseset,\n",
    "            category=AlgebrasWithBasis(SR), **keywords)\n",
    "        \n",
    "    def product_on_basis(self, left, right):\n",
    "        l = list(left)\n",
    "        r = list(right)\n",
    "        return self.monomial(SetPartition(l+r))\n",
    "    \n",
    "    def one_basis(self):\n",
    "        return SetPartition([])\n",
    "    \n",
    "    def algebra_generators(self):\n",
    "        return SetPartitions()\n",
    "    \n",
    "    def _repr_(self):\n",
    "        return \"Algebra of set partitions over %s with multiplication given by concatenation\"%(SR)\n",
    "    \n",
    "    def inner_product_on_basis(self, left, right):\n",
    "        if left.base_set() != right.base_set():\n",
    "            return 0\n",
    "        else:\n",
    "            join = left.sup(right)\n",
    "            return SR(N^len(join))\n",
    "    \n",
    "    def inner_prod(self, left, right):\n",
    "        innerprod = 0\n",
    "        for l in left:\n",
    "            for r in right:\n",
    "                innerprod += l[1]*r[1]*self.inner_product_on_basis(l[0],r[0])\n",
    "        return innerprod\n",
    "    \n",
    "    def from_partition_algebra(self, d, baseset_left, baseset_right):\n",
    "        B = self.basis()\n",
    "        element = 0\n",
    "        for (setpart, coeff) in d:\n",
    "            setpartnew = []\n",
    "            for part in setpart.set_partition():\n",
    "                partnew = []\n",
    "                for p in part:\n",
    "                    if p > 0:\n",
    "                        partnew += [baseset_left[p-1]]\n",
    "                    elif p < 0:\n",
    "                        partnew += [baseset_right[-p-1]]\n",
    "                setpartnew += [partnew]\n",
    "            element += coeff*B[SetPartition(setpartnew)]\n",
    "        return element\n",
    "    \n",
    "    def relabel_element(self, elem, labelset):\n",
    "        B = self.basis()\n",
    "        element = 0\n",
    "        for (setpart, coeff) in elem:\n",
    "            setpartnew = []\n",
    "            for part in setpart:\n",
    "                partnew = []\n",
    "                for p in part:\n",
    "                    partnew += [labelset[p-1]]\n",
    "                setpartnew += [partnew]\n",
    "            element += coeff*B[SetPartition(setpartnew)]\n",
    "        return element"
   ]
  },
  {
   "cell_type": "code",
   "execution_count": 7,
   "metadata": {},
   "outputs": [],
   "source": [
    "## Initialize this vector space\n",
    "A = SetPartitionNA()\n",
    "B = A.basis()\n",
    "## Note that, as it is currently defined, this is not an algebra.\n",
    "## E.g. B[{{1}}]*B[{{1}}] = B[{{1},{1}}] is not a set partition.\n",
    "## This can also be checked by running.\n",
    "## TestSuite(A).run(verbose=True, skip='testpickling')\n",
    "## However, the current form will suffice for our algorithm."
   ]
  },
  {
   "cell_type": "code",
   "execution_count": 8,
   "metadata": {},
   "outputs": [],
   "source": [
    "## Define Clebsches as elements of this vector space\n",
    "gJ1, gJ2 = var('gJ1, gJ2')\n",
    "C00 = 1/N*B[SetPartition([[1],[2]])]\n",
    "CHH = 1/sqrt((N-1))*B[SetPartition([[1,2]])] - 1/N*1/sqrt((N-1))*B[SetPartition([[1],[2]])]\n",
    "## The one point function is a linear combination of these\n",
    "EXP_VAL = gJ1*C00+gJ2*CHH"
   ]
  },
  {
   "cell_type": "code",
   "execution_count": 9,
   "metadata": {},
   "outputs": [],
   "source": [
    "## The connected two point function (propagator) is given by the partition algebra element SRQ computed earlier\n",
    "PROPAGATOR = A.from_partition_algebra(SRQ, [1,2], [3,4])"
   ]
  },
  {
   "cell_type": "code",
   "execution_count": null,
   "metadata": {},
   "outputs": [],
   "source": [
    "## Observables are specified by a set partiton. E.g.\n",
    "observable_as_set_partition = B[SetPartition([[1,2]])]\n",
    "## For a degree 1 observable\n",
    "observable_as_set_partition = B[SetPartition([[1,2],[3,4]])]\n",
    "## For a degree 2 observable\n",
    "observable_as_set_partition = B[SetPartition([[1],[2],[3],[4],[5],[6]])]\n",
    "## For a degree 3 observable"
   ]
  },
  {
   "cell_type": "code",
   "execution_count": null,
   "metadata": {},
   "outputs": [],
   "source": [
    "##"
   ]
  },
  {
   "cell_type": "code",
   "execution_count": 22,
   "metadata": {},
   "outputs": [
    {
     "data": {
      "text/plain": [
       "N*(gJ1/N - gJ2/(sqrt(N - 1)*N)) + N*gJ2/sqrt(N - 1)"
      ]
     },
     "execution_count": 22,
     "metadata": {},
     "output_type": "execute_result"
    }
   ],
   "source": [
    "## Degree 1 expvals are computed as\n",
    "observable_as_set_partition = B[SetPartition([[1,2]])]\n",
    "onepoint = EXP_VAL\n",
    "A.inner_prod(observable_as_set_partition, onepoint)  "
   ]
  },
  {
   "cell_type": "code",
   "execution_count": 18,
   "metadata": {},
   "outputs": [
    {
     "data": {
      "text/plain": [
       "((gJ1/N - gJ2/(sqrt(N - 1)*N))^2 - g_21/(N^2 - N) - g_22/(N^3 - 4*N^2 + 5*N - 2) + g_33/(N^2 - 3*N + 2) + g_62/(N^2 - N) + g_00/N^3 - g_11/N^3 - g_50/N^3 + g_55/N^3 + g_61/N^3 - g_66/N^3)*N^2 - (g_62*(1/(N^2 - N) + 1/(N - 1)) - 2*gJ2*(gJ1/N - gJ2/(sqrt(N - 1)*N))/sqrt(N - 1) - g_21/(N^2 - N) - 2*g_22/(N^3 - 4*N^2 + 5*N - 2) + 2*g_33/(N^2 - 3*N + 2) - g_50/N^2 + 2*g_55/N^2 + g_61/N^2 - 2*g_66/N^2)*N^2 + N^2*(gJ2^2/(N - 1) - g_22/(N^3 - 4*N^2 + 5*N - 2) + g_33/(N^2 - 3*N + 2) + g_55/N + g_62/(N - 1) - g_66/N) + N*(N*g_22/(N^3 - 4*N^2 + 5*N - 2) - N*g_33/(N - 2) - N*g_62/(N - 1) + g_66) + 1/2*N*(g_33 + g_44) + 1/2*N*(g_33 - g_44) + N*(g_62 - 2*g_22/(N^2 - 3*N + 2) + 2*g_33/(N - 2)) + 1/2*N*(2*g_21/(N^2 - N) + 2*g_22/(N^4 - 4*N^3 + 5*N^2 - 2*N) - g_33/(N - 2) + g_44/N - 2*g_62/(N^2 - N) + 2*g_11/N^2 - 2*g_61/N^2 + 2*g_66/N^2) - N*(g_21/(N - 1) + 2*g_22/(N^3 - 4*N^2 + 5*N - 2) - 2*g_33/(N - 2) - g_61/N - 2*g_62/(N - 1) + 2*g_66/N) + N*(g_21/N + 2*g_22/(N^3 - 3*N^2 + 2*N) - g_33/(N - 2) - g_44/N - g_62/N) + 1/2*N*(2*g_22/(N^2 - 2*N) - g_33/(N - 2) + g_44/N)"
      ]
     },
     "execution_count": 18,
     "metadata": {},
     "output_type": "execute_result"
    }
   ],
   "source": [
    "## Degree 2 expvals are computed as\n",
    "observable_as_set_partition = B[SetPartition([[1,2],[3,4]])]\n",
    "twopoint = PROPAGATOR + EXP_VAL*A.relabel_element(EXP_VAL, [3,4])\n",
    "A.inner_prod(observable_as_set_partition, twopoint)"
   ]
  },
  {
   "cell_type": "code",
   "execution_count": 19,
   "metadata": {},
   "outputs": [
    {
     "data": {
      "text/plain": [
       "((gJ1/N - gJ2/(sqrt(N - 1)*N))^3 - 3*(gJ1/N - gJ2/(sqrt(N - 1)*N))*(g_21/(N^2 - N) + g_22/(N^3 - 4*N^2 + 5*N - 2) - g_33/(N^2 - 3*N + 2) - g_62/(N^2 - N) - g_00/N^3 + g_11/N^3 + g_50/N^3 - g_55/N^3 - g_61/N^3 + g_66/N^3))*N^6 + 3/2*N^5*(gJ1/N - gJ2/(sqrt(N - 1)*N))*(2*g_21/(N^2 - N) + 2*g_22/(N^4 - 4*N^3 + 5*N^2 - 2*N) - g_33/(N - 2) + g_44/N - 2*g_62/(N^2 - N) + 2*g_11/N^2 - 2*g_61/N^2 + 2*g_66/N^2) + 3*N^5*(gJ1/N - gJ2/(sqrt(N - 1)*N))*(g_21/N + 2*g_22/(N^3 - 3*N^2 + 2*N) - g_33/(N - 2) - g_44/N - g_62/N) + 3/2*N^5*(gJ1/N - gJ2/(sqrt(N - 1)*N))*(2*g_22/(N^2 - 2*N) - g_33/(N - 2) + g_44/N) + 3*(gJ2*(gJ1/N - gJ2/(sqrt(N - 1)*N))^2/sqrt(N - 1) - (g_62*(1/(N^2 - N) + 1/(N - 1)) - g_21/(N^2 - N) - 2*g_22/(N^3 - 4*N^2 + 5*N - 2) + 2*g_33/(N^2 - 3*N + 2) - g_50/N^2 + 2*g_55/N^2 + g_61/N^2 - 2*g_66/N^2)*(gJ1/N - gJ2/(sqrt(N - 1)*N)) - gJ2*(g_21/(N^2 - N) + g_22/(N^3 - 4*N^2 + 5*N - 2) - g_33/(N^2 - 3*N + 2) - g_62/(N^2 - N) - g_00/N^3 + g_11/N^3 + g_50/N^3 - g_55/N^3 - g_61/N^3 + g_66/N^3)/sqrt(N - 1))*N^5 + 3/2*N^4*(g_33 + g_44)*(gJ1/N - gJ2/(sqrt(N - 1)*N)) + 3/2*N^4*(g_33 - g_44)*(gJ1/N - gJ2/(sqrt(N - 1)*N)) + 3*N^4*(g_62 - 2*g_22/(N^2 - 3*N + 2) + 2*g_33/(N - 2))*(gJ1/N - gJ2/(sqrt(N - 1)*N)) - 3*N^4*(gJ1/N - gJ2/(sqrt(N - 1)*N))*(g_21/(N - 1) + 2*g_22/(N^3 - 4*N^2 + 5*N - 2) - 2*g_33/(N - 2) - g_61/N - 2*g_62/(N - 1) + 2*g_66/N) + 3/2*N^4*gJ2*(2*g_21/(N^2 - N) + 2*g_22/(N^4 - 4*N^3 + 5*N^2 - 2*N) - g_33/(N - 2) + g_44/N - 2*g_62/(N^2 - N) + 2*g_11/N^2 - 2*g_61/N^2 + 2*g_66/N^2)/sqrt(N - 1) + 3*N^4*gJ2*(g_21/N + 2*g_22/(N^3 - 3*N^2 + 2*N) - g_33/(N - 2) - g_44/N - g_62/N)/sqrt(N - 1) + 3/2*N^4*gJ2*(2*g_22/(N^2 - 2*N) - g_33/(N - 2) + g_44/N)/sqrt(N - 1) + 3*(gJ2^2*(gJ1/N - gJ2/(sqrt(N - 1)*N))/(N - 1) - (gJ1/N - gJ2/(sqrt(N - 1)*N))*(g_22/(N^3 - 4*N^2 + 5*N - 2) - g_33/(N^2 - 3*N + 2) - g_55/N - g_62/(N - 1) + g_66/N) - (g_62*(1/(N^2 - N) + 1/(N - 1)) - g_21/(N^2 - N) - 2*g_22/(N^3 - 4*N^2 + 5*N - 2) + 2*g_33/(N^2 - 3*N + 2) - g_50/N^2 + 2*g_55/N^2 + g_61/N^2 - 2*g_66/N^2)*gJ2/sqrt(N - 1))*N^4 + 3*N^3*(N*g_22/(N^3 - 4*N^2 + 5*N - 2) - N*g_33/(N - 2) - N*g_62/(N - 1) + g_66)*(gJ1/N - gJ2/(sqrt(N - 1)*N)) + 3/2*N^3*gJ2*(g_33 + g_44)/sqrt(N - 1) + 3/2*N^3*gJ2*(g_33 - g_44)/sqrt(N - 1) + 3*N^3*gJ2*(g_62 - 2*g_22/(N^2 - 3*N + 2) + 2*g_33/(N - 2))/sqrt(N - 1) - 3*N^3*gJ2*(g_21/(N - 1) + 2*g_22/(N^3 - 4*N^2 + 5*N - 2) - 2*g_33/(N - 2) - g_61/N - 2*g_62/(N - 1) + 2*g_66/N)/sqrt(N - 1) + (gJ2^3/(N - 1)^(3/2) - 3*gJ2*(g_22/(N^3 - 4*N^2 + 5*N - 2) - g_33/(N^2 - 3*N + 2) - g_55/N - g_62/(N - 1) + g_66/N)/sqrt(N - 1))*N^3 + 3*N^2*gJ2*(N*g_22/(N^3 - 4*N^2 + 5*N - 2) - N*g_33/(N - 2) - N*g_62/(N - 1) + g_66)/sqrt(N - 1)"
      ]
     },
     "execution_count": 19,
     "metadata": {},
     "output_type": "execute_result"
    }
   ],
   "source": [
    "## Degree 3 expvals are computed as\n",
    "observable_as_set_partition = B[SetPartition([[1],[2],[3],[4],[5],[6]])]\n",
    "threepoint = PROPAGATOR*A.relabel_element(EXP_VAL, [5,6])\n",
    "threepoint += A.relabel_element(PROPAGATOR, [1,2,5,6])*A.relabel_element(EXP_VAL, [3,4])\n",
    "threepoint += A.relabel_element(PROPAGATOR, [3,4,5,6])*A.relabel_element(EXP_VAL, [1,2])\n",
    "threepoint += A.relabel_element(EXP_VAL, [1,2])*A.relabel_element(EXP_VAL, [3,4])*A.relabel_element(EXP_VAL, [5,6])\n",
    "A.inner_prod(observable_as_set_partition,threepoint)  "
   ]
  },
  {
   "cell_type": "code",
   "execution_count": 81,
   "metadata": {},
   "outputs": [],
   "source": [
    "## For higher degree expvals it is useful to automate the Wick contractions\n",
    "def kpoint(k):\n",
    "## Fix a degree k\n",
    "    pairs = [(2*i-1,2*i) for i in [1..k]]\n",
    "## Generate the set of pairs [(1,2),....,(2k-1,2k)]\n",
    "    kpoint=0\n",
    "    for i in [0..floor(k/2)]:\n",
    "        ## Iterate over all set partitions of the pairs with blocks of size 1 or 2\n",
    "        for term in SetPartitions(pairs, sorted((k-2*i)*[1]+i*[2], reverse=True)):\n",
    "            kpoint += prod(A.relabel_element(EXP_VAL, list(i for c in contraction for i in c)) if len(contraction)==1 else A.relabel_element(PROPAGATOR, list(i for c in contraction for i in c))  for contraction in term )\n",
    "    return kpoint"
   ]
  },
  {
   "cell_type": "code",
   "execution_count": 88,
   "metadata": {},
   "outputs": [
    {
     "data": {
      "text/plain": [
       "True"
      ]
     },
     "execution_count": 88,
     "metadata": {},
     "output_type": "execute_result"
    }
   ],
   "source": [
    "## We can check that this gives the right answer for k=1,2,3\n",
    "kpoint(1) == onepoint and kpoint(2) == twopoint and kpoint1(3) == threepoint"
   ]
  },
  {
   "cell_type": "code",
   "execution_count": 40,
   "metadata": {},
   "outputs": [
    {
     "data": {
      "text/plain": [
       "((gJ1/N - gJ2/(sqrt(N - 1)*N))^4 - 6*(gJ1/N - gJ2/(sqrt(N - 1)*N))^2*(g_21/(N^2 - N) + g_22/(N^3 - 4*N^2 + 5*N - 2) - g_33/(N^2 - 3*N + 2) - g_62/(N^2 - N) - g_00/N^3 + g_11/N^3 + g_50/N^3 - g_55/N^3 - g_61/N^3 + g_66/N^3) + 3*(g_21/(N^2 - N) + g_22/(N^3 - 4*N^2 + 5*N - 2) - g_33/(N^2 - 3*N + 2) - g_62/(N^2 - N) - g_00/N^3 + g_11/N^3 + g_50/N^3 - g_55/N^3 - g_61/N^3 + g_66/N^3)^2)*N^8 + 2*(2*gJ2*(gJ1/N - gJ2/(sqrt(N - 1)*N))^3/sqrt(N - 1) - 3*(g_62*(1/(N^2 - N) + 1/(N - 1)) - g_21/(N^2 - N) - 2*g_22/(N^3 - 4*N^2 + 5*N - 2) + 2*g_33/(N^2 - 3*N + 2) - g_50/N^2 + 2*g_55/N^2 + g_61/N^2 - 2*g_66/N^2)*(gJ1/N - gJ2/(sqrt(N - 1)*N))^2 - 6*gJ2*(gJ1/N - gJ2/(sqrt(N - 1)*N))*(g_21/(N^2 - N) + g_22/(N^3 - 4*N^2 + 5*N - 2) - g_33/(N^2 - 3*N + 2) - g_62/(N^2 - N) - g_00/N^3 + g_11/N^3 + g_50/N^3 - g_55/N^3 - g_61/N^3 + g_66/N^3)/sqrt(N - 1) + 3*(g_62*(1/(N^2 - N) + 1/(N - 1)) - g_21/(N^2 - N) - 2*g_22/(N^3 - 4*N^2 + 5*N - 2) + 2*g_33/(N^2 - 3*N + 2) - g_50/N^2 + 2*g_55/N^2 + g_61/N^2 - 2*g_66/N^2)*(g_21/(N^2 - N) + g_22/(N^3 - 4*N^2 + 5*N - 2) - g_33/(N^2 - 3*N + 2) - g_62/(N^2 - N) - g_00/N^3 + g_11/N^3 + g_50/N^3 - g_55/N^3 - g_61/N^3 + g_66/N^3))*N^7 + 3*((gJ1/N - gJ2/(sqrt(N - 1)*N))^2*(2*g_21/(N^2 - N) + 2*g_22/(N^4 - 4*N^3 + 5*N^2 - 2*N) - g_33/(N - 2) + g_44/N - 2*g_62/(N^2 - N) + 2*g_11/N^2 - 2*g_61/N^2 + 2*g_66/N^2) - (2*g_21/(N^2 - N) + 2*g_22/(N^4 - 4*N^3 + 5*N^2 - 2*N) - g_33/(N - 2) + g_44/N - 2*g_62/(N^2 - N) + 2*g_11/N^2 - 2*g_61/N^2 + 2*g_66/N^2)*(g_21/(N^2 - N) + g_22/(N^3 - 4*N^2 + 5*N - 2) - g_33/(N^2 - 3*N + 2) - g_62/(N^2 - N) - g_00/N^3 + g_11/N^3 + g_50/N^3 - g_55/N^3 - g_61/N^3 + g_66/N^3))*N^7 + 6*((gJ1/N - gJ2/(sqrt(N - 1)*N))^2*(g_21/N + 2*g_22/(N^3 - 3*N^2 + 2*N) - g_33/(N - 2) - g_44/N - g_62/N) - (g_21/(N^2 - N) + g_22/(N^3 - 4*N^2 + 5*N - 2) - g_33/(N^2 - 3*N + 2) - g_62/(N^2 - N) - g_00/N^3 + g_11/N^3 + g_50/N^3 - g_55/N^3 - g_61/N^3 + g_66/N^3)*(g_21/N + 2*g_22/(N^3 - 3*N^2 + 2*N) - g_33/(N - 2) - g_44/N - g_62/N))*N^7 + 3*((gJ1/N - gJ2/(sqrt(N - 1)*N))^2*(2*g_22/(N^2 - 2*N) - g_33/(N - 2) + g_44/N) - (g_21/(N^2 - N) + g_22/(N^3 - 4*N^2 + 5*N - 2) - g_33/(N^2 - 3*N + 2) - g_62/(N^2 - N) - g_00/N^3 + g_11/N^3 + g_50/N^3 - g_55/N^3 - g_61/N^3 + g_66/N^3)*(2*g_22/(N^2 - 2*N) - g_33/(N - 2) + g_44/N))*N^7 + 3/4*N^6*(2*g_21/(N^2 - N) + 2*g_22/(N^4 - 4*N^3 + 5*N^2 - 2*N) - g_33/(N - 2) + g_44/N - 2*g_62/(N^2 - N) + 2*g_11/N^2 - 2*g_61/N^2 + 2*g_66/N^2)^2 + 3*N^6*(2*g_21/(N^2 - N) + 2*g_22/(N^4 - 4*N^3 + 5*N^2 - 2*N) - g_33/(N - 2) + g_44/N - 2*g_62/(N^2 - N) + 2*g_11/N^2 - 2*g_61/N^2 + 2*g_66/N^2)*(g_21/N + 2*g_22/(N^3 - 3*N^2 + 2*N) - g_33/(N - 2) - g_44/N - g_62/N) + 3*N^6*(g_21/N + 2*g_22/(N^3 - 3*N^2 + 2*N) - g_33/(N - 2) - g_44/N - g_62/N)^2 + 3/2*N^6*(2*g_21/(N^2 - N) + 2*g_22/(N^4 - 4*N^3 + 5*N^2 - 2*N) - g_33/(N - 2) + g_44/N - 2*g_62/(N^2 - N) + 2*g_11/N^2 - 2*g_61/N^2 + 2*g_66/N^2)*(2*g_22/(N^2 - 2*N) - g_33/(N - 2) + g_44/N) + 3*N^6*(g_21/N + 2*g_22/(N^3 - 3*N^2 + 2*N) - g_33/(N - 2) - g_44/N - g_62/N)*(2*g_22/(N^2 - 2*N) - g_33/(N - 2) + g_44/N) + 3/4*N^6*(2*g_22/(N^2 - 2*N) - g_33/(N - 2) + g_44/N)^2 + 3*(2*gJ2^2*(gJ1/N - gJ2/(sqrt(N - 1)*N))^2/(N - 1) - 2*(gJ1/N - gJ2/(sqrt(N - 1)*N))^2*(g_22/(N^3 - 4*N^2 + 5*N - 2) - g_33/(N^2 - 3*N + 2) - g_55/N - g_62/(N - 1) + g_66/N) - 4*(g_62*(1/(N^2 - N) + 1/(N - 1)) - g_21/(N^2 - N) - 2*g_22/(N^3 - 4*N^2 + 5*N - 2) + 2*g_33/(N^2 - 3*N + 2) - g_50/N^2 + 2*g_55/N^2 + g_61/N^2 - 2*g_66/N^2)*gJ2*(gJ1/N - gJ2/(sqrt(N - 1)*N))/sqrt(N - 1) + (g_62*(1/(N^2 - N) + 1/(N - 1)) - g_21/(N^2 - N) - 2*g_22/(N^3 - 4*N^2 + 5*N - 2) + 2*g_33/(N^2 - 3*N + 2) - g_50/N^2 + 2*g_55/N^2 + g_61/N^2 - 2*g_66/N^2)^2 - 2*gJ2^2*(g_21/(N^2 - N) + g_22/(N^3 - 4*N^2 + 5*N - 2) - g_33/(N^2 - 3*N + 2) - g_62/(N^2 - N) - g_00/N^3 + g_11/N^3 + g_50/N^3 - g_55/N^3 - g_61/N^3 + g_66/N^3)/(N - 1) + 2*(g_21/(N^2 - N) + g_22/(N^3 - 4*N^2 + 5*N - 2) - g_33/(N^2 - 3*N + 2) - g_62/(N^2 - N) - g_00/N^3 + g_11/N^3 + g_50/N^3 - g_55/N^3 - g_61/N^3 + g_66/N^3)*(g_22/(N^3 - 4*N^2 + 5*N - 2) - g_33/(N^2 - 3*N + 2) - g_55/N - g_62/(N - 1) + g_66/N))*N^6 + 3*((g_33 + g_44)*(gJ1/N - gJ2/(sqrt(N - 1)*N))^2 - (g_33 + g_44)*(g_21/(N^2 - N) + g_22/(N^3 - 4*N^2 + 5*N - 2) - g_33/(N^2 - 3*N + 2) - g_62/(N^2 - N) - g_00/N^3 + g_11/N^3 + g_50/N^3 - g_55/N^3 - g_61/N^3 + g_66/N^3))*N^6 + 3*((g_33 - g_44)*(gJ1/N - gJ2/(sqrt(N - 1)*N))^2 - (g_33 - g_44)*(g_21/(N^2 - N) + g_22/(N^3 - 4*N^2 + 5*N - 2) - g_33/(N^2 - 3*N + 2) - g_62/(N^2 - N) - g_00/N^3 + g_11/N^3 + g_50/N^3 - g_55/N^3 - g_61/N^3 + g_66/N^3))*N^6 + 6*((g_62 - 2*g_22/(N^2 - 3*N + 2) + 2*g_33/(N - 2))*(gJ1/N - gJ2/(sqrt(N - 1)*N))^2 - (g_62 - 2*g_22/(N^2 - 3*N + 2) + 2*g_33/(N - 2))*(g_21/(N^2 - N) + g_22/(N^3 - 4*N^2 + 5*N - 2) - g_33/(N^2 - 3*N + 2) - g_62/(N^2 - N) - g_00/N^3 + g_11/N^3 + g_50/N^3 - g_55/N^3 - g_61/N^3 + g_66/N^3))*N^6 - 6*((gJ1/N - gJ2/(sqrt(N - 1)*N))^2*(g_21/(N - 1) + 2*g_22/(N^3 - 4*N^2 + 5*N - 2) - 2*g_33/(N - 2) - g_61/N - 2*g_62/(N - 1) + 2*g_66/N) - (g_21/(N^2 - N) + g_22/(N^3 - 4*N^2 + 5*N - 2) - g_33/(N^2 - 3*N + 2) - g_62/(N^2 - N) - g_00/N^3 + g_11/N^3 + g_50/N^3 - g_55/N^3 - g_61/N^3 + g_66/N^3)*(g_21/(N - 1) + 2*g_22/(N^3 - 4*N^2 + 5*N - 2) - 2*g_33/(N - 2) - g_61/N - 2*g_62/(N - 1) + 2*g_66/N))*N^6 + 3*(2*gJ2*(gJ1/N - gJ2/(sqrt(N - 1)*N))*(2*g_21/(N^2 - N) + 2*g_22/(N^4 - 4*N^3 + 5*N^2 - 2*N) - g_33/(N - 2) + g_44/N - 2*g_62/(N^2 - N) + 2*g_11/N^2 - 2*g_61/N^2 + 2*g_66/N^2)/sqrt(N - 1) - (g_62*(1/(N^2 - N) + 1/(N - 1)) - g_21/(N^2 - N) - 2*g_22/(N^3 - 4*N^2 + 5*N - 2) + 2*g_33/(N^2 - 3*N + 2) - g_50/N^2 + 2*g_55/N^2 + g_61/N^2 - 2*g_66/N^2)*(2*g_21/(N^2 - N) + 2*g_22/(N^4 - 4*N^3 + 5*N^2 - 2*N) - g_33/(N - 2) + g_44/N - 2*g_62/(N^2 - N) + 2*g_11/N^2 - 2*g_61/N^2 + 2*g_66/N^2))*N^6 + 6*(2*gJ2*(gJ1/N - gJ2/(sqrt(N - 1)*N))*(g_21/N + 2*g_22/(N^3 - 3*N^2 + 2*N) - g_33/(N - 2) - g_44/N - g_62/N)/sqrt(N - 1) - (g_62*(1/(N^2 - N) + 1/(N - 1)) - g_21/(N^2 - N) - 2*g_22/(N^3 - 4*N^2 + 5*N - 2) + 2*g_33/(N^2 - 3*N + 2) - g_50/N^2 + 2*g_55/N^2 + g_61/N^2 - 2*g_66/N^2)*(g_21/N + 2*g_22/(N^3 - 3*N^2 + 2*N) - g_33/(N - 2) - g_44/N - g_62/N))*N^6 + 3*(2*gJ2*(gJ1/N - gJ2/(sqrt(N - 1)*N))*(2*g_22/(N^2 - 2*N) - g_33/(N - 2) + g_44/N)/sqrt(N - 1) - (g_62*(1/(N^2 - N) + 1/(N - 1)) - g_21/(N^2 - N) - 2*g_22/(N^3 - 4*N^2 + 5*N - 2) + 2*g_33/(N^2 - 3*N + 2) - g_50/N^2 + 2*g_55/N^2 + g_61/N^2 - 2*g_66/N^2)*(2*g_22/(N^2 - 2*N) - g_33/(N - 2) + g_44/N))*N^6 + 3/2*N^5*(g_33 + g_44)*(2*g_21/(N^2 - N) + 2*g_22/(N^4 - 4*N^3 + 5*N^2 - 2*N) - g_33/(N - 2) + g_44/N - 2*g_62/(N^2 - N) + 2*g_11/N^2 - 2*g_61/N^2 + 2*g_66/N^2) + 3/2*N^5*(g_33 - g_44)*(2*g_21/(N^2 - N) + 2*g_22/(N^4 - 4*N^3 + 5*N^2 - 2*N) - g_33/(N - 2) + g_44/N - 2*g_62/(N^2 - N) + 2*g_11/N^2 - 2*g_61/N^2 + 2*g_66/N^2) + 3*N^5*(g_62 - 2*g_22/(N^2 - 3*N + 2) + 2*g_33/(N - 2))*(2*g_21/(N^2 - N) + 2*g_22/(N^4 - 4*N^3 + 5*N^2 - 2*N) - g_33/(N - 2) + g_44/N - 2*g_62/(N^2 - N) + 2*g_11/N^2 - 2*g_61/N^2 + 2*g_66/N^2) - 3*N^5*(2*g_21/(N^2 - N) + 2*g_22/(N^4 - 4*N^3 + 5*N^2 - 2*N) - g_33/(N - 2) + g_44/N - 2*g_62/(N^2 - N) + 2*g_11/N^2 - 2*g_61/N^2 + 2*g_66/N^2)*(g_21/(N - 1) + 2*g_22/(N^3 - 4*N^2 + 5*N - 2) - 2*g_33/(N - 2) - g_61/N - 2*g_62/(N - 1) + 2*g_66/N) + 3*N^5*(g_33 + g_44)*(g_21/N + 2*g_22/(N^3 - 3*N^2 + 2*N) - g_33/(N - 2) - g_44/N - g_62/N) + 3*N^5*(g_33 - g_44)*(g_21/N + 2*g_22/(N^3 - 3*N^2 + 2*N) - g_33/(N - 2) - g_44/N - g_62/N) + 6*N^5*(g_62 - 2*g_22/(N^2 - 3*N + 2) + 2*g_33/(N - 2))*(g_21/N + 2*g_22/(N^3 - 3*N^2 + 2*N) - g_33/(N - 2) - g_44/N - g_62/N) - 6*N^5*(g_21/(N - 1) + 2*g_22/(N^3 - 4*N^2 + 5*N - 2) - 2*g_33/(N - 2) - g_61/N - 2*g_62/(N - 1) + 2*g_66/N)*(g_21/N + 2*g_22/(N^3 - 3*N^2 + 2*N) - g_33/(N - 2) - g_44/N - g_62/N) + 3/2*N^5*(g_33 + g_44)*(2*g_22/(N^2 - 2*N) - g_33/(N - 2) + g_44/N) + 3/2*N^5*(g_33 - g_44)*(2*g_22/(N^2 - 2*N) - g_33/(N - 2) + g_44/N) + 3*N^5*(g_62 - 2*g_22/(N^2 - 3*N + 2) + 2*g_33/(N - 2))*(2*g_22/(N^2 - 2*N) - g_33/(N - 2) + g_44/N) - 3*N^5*(g_21/(N - 1) + 2*g_22/(N^3 - 4*N^2 + 5*N - 2) - 2*g_33/(N - 2) - g_61/N - 2*g_62/(N - 1) + 2*g_66/N)*(2*g_22/(N^2 - 2*N) - g_33/(N - 2) + g_44/N) + 6*((N*g_22/(N^3 - 4*N^2 + 5*N - 2) - N*g_33/(N - 2) - N*g_62/(N - 1) + g_66)*(gJ1/N - gJ2/(sqrt(N - 1)*N))^2 - (N*g_22/(N^3 - 4*N^2 + 5*N - 2) - N*g_33/(N - 2) - N*g_62/(N - 1) + g_66)*(g_21/(N^2 - N) + g_22/(N^3 - 4*N^2 + 5*N - 2) - g_33/(N^2 - 3*N + 2) - g_62/(N^2 - N) - g_00/N^3 + g_11/N^3 + g_50/N^3 - g_55/N^3 - g_61/N^3 + g_66/N^3))*N^5 + 2*(2*gJ2^3*(gJ1/N - gJ2/(sqrt(N - 1)*N))/(N - 1)^(3/2) - 6*gJ2*(gJ1/N - gJ2/(sqrt(N - 1)*N))*(g_22/(N^3 - 4*N^2 + 5*N - 2) - g_33/(N^2 - 3*N + 2) - g_55/N - g_62/(N - 1) + g_66/N)/sqrt(N - 1) - 3*(g_62*(1/(N^2 - N) + 1/(N - 1)) - g_21/(N^2 - N) - 2*g_22/(N^3 - 4*N^2 + 5*N - 2) + 2*g_33/(N^2 - 3*N + 2) - g_50/N^2 + 2*g_55/N^2 + g_61/N^2 - 2*g_66/N^2)*gJ2^2/(N - 1) + 3*(g_62*(1/(N^2 - N) + 1/(N - 1)) - g_21/(N^2 - N) - 2*g_22/(N^3 - 4*N^2 + 5*N - 2) + 2*g_33/(N^2 - 3*N + 2) - g_50/N^2 + 2*g_55/N^2 + g_61/N^2 - 2*g_66/N^2)*(g_22/(N^3 - 4*N^2 + 5*N - 2) - g_33/(N^2 - 3*N + 2) - g_55/N - g_62/(N - 1) + g_66/N))*N^5 + 3*(2*gJ2*(g_33 + g_44)*(gJ1/N - gJ2/(sqrt(N - 1)*N))/sqrt(N - 1) - (g_62*(1/(N^2 - N) + 1/(N - 1)) - g_21/(N^2 - N) - 2*g_22/(N^3 - 4*N^2 + 5*N - 2) + 2*g_33/(N^2 - 3*N + 2) - g_50/N^2 + 2*g_55/N^2 + g_61/N^2 - 2*g_66/N^2)*(g_33 + g_44))*N^5 + 3*(2*gJ2*(g_33 - g_44)*(gJ1/N - gJ2/(sqrt(N - 1)*N))/sqrt(N - 1) - (g_62*(1/(N^2 - N) + 1/(N - 1)) - g_21/(N^2 - N) - 2*g_22/(N^3 - 4*N^2 + 5*N - 2) + 2*g_33/(N^2 - 3*N + 2) - g_50/N^2 + 2*g_55/N^2 + g_61/N^2 - 2*g_66/N^2)*(g_33 - g_44))*N^5 + 6*(2*gJ2*(g_62 - 2*g_22/(N^2 - 3*N + 2) + 2*g_33/(N - 2))*(gJ1/N - gJ2/(sqrt(N - 1)*N))/sqrt(N - 1) - (g_62*(1/(N^2 - N) + 1/(N - 1)) - g_21/(N^2 - N) - 2*g_22/(N^3 - 4*N^2 + 5*N - 2) + 2*g_33/(N^2 - 3*N + 2) - g_50/N^2 + 2*g_55/N^2 + g_61/N^2 - 2*g_66/N^2)*(g_62 - 2*g_22/(N^2 - 3*N + 2) + 2*g_33/(N - 2)))*N^5 - 6*(2*gJ2*(gJ1/N - gJ2/(sqrt(N - 1)*N))*(g_21/(N - 1) + 2*g_22/(N^3 - 4*N^2 + 5*N - 2) - 2*g_33/(N - 2) - g_61/N - 2*g_62/(N - 1) + 2*g_66/N)/sqrt(N - 1) - (g_62*(1/(N^2 - N) + 1/(N - 1)) - g_21/(N^2 - N) - 2*g_22/(N^3 - 4*N^2 + 5*N - 2) + 2*g_33/(N^2 - 3*N + 2) - g_50/N^2 + 2*g_55/N^2 + g_61/N^2 - 2*g_66/N^2)*(g_21/(N - 1) + 2*g_22/(N^3 - 4*N^2 + 5*N - 2) - 2*g_33/(N - 2) - g_61/N - 2*g_62/(N - 1) + 2*g_66/N))*N^5 + 3*(gJ2^2*(2*g_21/(N^2 - N) + 2*g_22/(N^4 - 4*N^3 + 5*N^2 - 2*N) - g_33/(N - 2) + g_44/N - 2*g_62/(N^2 - N) + 2*g_11/N^2 - 2*g_61/N^2 + 2*g_66/N^2)/(N - 1) - (2*g_21/(N^2 - N) + 2*g_22/(N^4 - 4*N^3 + 5*N^2 - 2*N) - g_33/(N - 2) + g_44/N - 2*g_62/(N^2 - N) + 2*g_11/N^2 - 2*g_61/N^2 + 2*g_66/N^2)*(g_22/(N^3 - 4*N^2 + 5*N - 2) - g_33/(N^2 - 3*N + 2) - g_55/N - g_62/(N - 1) + g_66/N))*N^5 + 6*(gJ2^2*(g_21/N + 2*g_22/(N^3 - 3*N^2 + 2*N) - g_33/(N - 2) - g_44/N - g_62/N)/(N - 1) - (g_21/N + 2*g_22/(N^3 - 3*N^2 + 2*N) - g_33/(N - 2) - g_44/N - g_62/N)*(g_22/(N^3 - 4*N^2 + 5*N - 2) - g_33/(N^2 - 3*N + 2) - g_55/N - g_62/(N - 1) + g_66/N))*N^5 + 3*(gJ2^2*(2*g_22/(N^2 - 2*N) - g_33/(N - 2) + g_44/N)/(N - 1) - (g_22/(N^3 - 4*N^2 + 5*N - 2) - g_33/(N^2 - 3*N + 2) - g_55/N - g_62/(N - 1) + g_66/N)*(2*g_22/(N^2 - 2*N) - g_33/(N - 2) + g_44/N))*N^5 + 3/4*N^4*(g_33 + g_44)^2 + 3/2*N^4*(g_33 + g_44)*(g_33 - g_44) + 3/4*N^4*(g_33 - g_44)^2 + 3*N^4*(g_33 + g_44)*(g_62 - 2*g_22/(N^2 - 3*N + 2) + 2*g_33/(N - 2)) + 3*N^4*(g_33 - g_44)*(g_62 - 2*g_22/(N^2 - 3*N + 2) + 2*g_33/(N - 2)) + 3*N^4*(g_62 - 2*g_22/(N^2 - 3*N + 2) + 2*g_33/(N - 2))^2 + 3*N^4*(N*g_22/(N^3 - 4*N^2 + 5*N - 2) - N*g_33/(N - 2) - N*g_62/(N - 1) + g_66)*(2*g_21/(N^2 - N) + 2*g_22/(N^4 - 4*N^3 + 5*N^2 - 2*N) - g_33/(N - 2) + g_44/N - 2*g_62/(N^2 - N) + 2*g_11/N^2 - 2*g_61/N^2 + 2*g_66/N^2) - 3*N^4*(g_33 + g_44)*(g_21/(N - 1) + 2*g_22/(N^3 - 4*N^2 + 5*N - 2) - 2*g_33/(N - 2) - g_61/N - 2*g_62/(N - 1) + 2*g_66/N) - 3*N^4*(g_33 - g_44)*(g_21/(N - 1) + 2*g_22/(N^3 - 4*N^2 + 5*N - 2) - 2*g_33/(N - 2) - g_61/N - 2*g_62/(N - 1) + 2*g_66/N) - 6*N^4*(g_62 - 2*g_22/(N^2 - 3*N + 2) + 2*g_33/(N - 2))*(g_21/(N - 1) + 2*g_22/(N^3 - 4*N^2 + 5*N - 2) - 2*g_33/(N - 2) - g_61/N - 2*g_62/(N - 1) + 2*g_66/N) + 3*N^4*(g_21/(N - 1) + 2*g_22/(N^3 - 4*N^2 + 5*N - 2) - 2*g_33/(N - 2) - g_61/N - 2*g_62/(N - 1) + 2*g_66/N)^2 + 6*N^4*(N*g_22/(N^3 - 4*N^2 + 5*N - 2) - N*g_33/(N - 2) - N*g_62/(N - 1) + g_66)*(g_21/N + 2*g_22/(N^3 - 3*N^2 + 2*N) - g_33/(N - 2) - g_44/N - g_62/N) + 3*N^4*(N*g_22/(N^3 - 4*N^2 + 5*N - 2) - N*g_33/(N - 2) - N*g_62/(N - 1) + g_66)*(2*g_22/(N^2 - 2*N) - g_33/(N - 2) + g_44/N) + 6*(2*gJ2*(N*g_22/(N^3 - 4*N^2 + 5*N - 2) - N*g_33/(N - 2) - N*g_62/(N - 1) + g_66)*(gJ1/N - gJ2/(sqrt(N - 1)*N))/sqrt(N - 1) - (g_62*(1/(N^2 - N) + 1/(N - 1)) - g_21/(N^2 - N) - 2*g_22/(N^3 - 4*N^2 + 5*N - 2) + 2*g_33/(N^2 - 3*N + 2) - g_50/N^2 + 2*g_55/N^2 + g_61/N^2 - 2*g_66/N^2)*(N*g_22/(N^3 - 4*N^2 + 5*N - 2) - N*g_33/(N - 2) - N*g_62/(N - 1) + g_66))*N^4 + (gJ2^4/(N - 1)^2 - 6*gJ2^2*(g_22/(N^3 - 4*N^2 + 5*N - 2) - g_33/(N^2 - 3*N + 2) - g_55/N - g_62/(N - 1) + g_66/N)/(N - 1) + 3*(g_22/(N^3 - 4*N^2 + 5*N - 2) - g_33/(N^2 - 3*N + 2) - g_55/N - g_62/(N - 1) + g_66/N)^2)*N^4 + 3*(gJ2^2*(g_33 + g_44)/(N - 1) - (g_33 + g_44)*(g_22/(N^3 - 4*N^2 + 5*N - 2) - g_33/(N^2 - 3*N + 2) - g_55/N - g_62/(N - 1) + g_66/N))*N^4 + 3*(gJ2^2*(g_33 - g_44)/(N - 1) - (g_33 - g_44)*(g_22/(N^3 - 4*N^2 + 5*N - 2) - g_33/(N^2 - 3*N + 2) - g_55/N - g_62/(N - 1) + g_66/N))*N^4 + 6*(gJ2^2*(g_62 - 2*g_22/(N^2 - 3*N + 2) + 2*g_33/(N - 2))/(N - 1) - (g_62 - 2*g_22/(N^2 - 3*N + 2) + 2*g_33/(N - 2))*(g_22/(N^3 - 4*N^2 + 5*N - 2) - g_33/(N^2 - 3*N + 2) - g_55/N - g_62/(N - 1) + g_66/N))*N^4 - 6*(gJ2^2*(g_21/(N - 1) + 2*g_22/(N^3 - 4*N^2 + 5*N - 2) - 2*g_33/(N - 2) - g_61/N - 2*g_62/(N - 1) + 2*g_66/N)/(N - 1) - (g_21/(N - 1) + 2*g_22/(N^3 - 4*N^2 + 5*N - 2) - 2*g_33/(N - 2) - g_61/N - 2*g_62/(N - 1) + 2*g_66/N)*(g_22/(N^3 - 4*N^2 + 5*N - 2) - g_33/(N^2 - 3*N + 2) - g_55/N - g_62/(N - 1) + g_66/N))*N^4 + 3*N^3*(N*g_22/(N^3 - 4*N^2 + 5*N - 2) - N*g_33/(N - 2) - N*g_62/(N - 1) + g_66)*(g_33 + g_44) + 3*N^3*(N*g_22/(N^3 - 4*N^2 + 5*N - 2) - N*g_33/(N - 2) - N*g_62/(N - 1) + g_66)*(g_33 - g_44) + 6*N^3*(N*g_22/(N^3 - 4*N^2 + 5*N - 2) - N*g_33/(N - 2) - N*g_62/(N - 1) + g_66)*(g_62 - 2*g_22/(N^2 - 3*N + 2) + 2*g_33/(N - 2)) - 6*N^3*(N*g_22/(N^3 - 4*N^2 + 5*N - 2) - N*g_33/(N - 2) - N*g_62/(N - 1) + g_66)*(g_21/(N - 1) + 2*g_22/(N^3 - 4*N^2 + 5*N - 2) - 2*g_33/(N - 2) - g_61/N - 2*g_62/(N - 1) + 2*g_66/N) + 6*(gJ2^2*(N*g_22/(N^3 - 4*N^2 + 5*N - 2) - N*g_33/(N - 2) - N*g_62/(N - 1) + g_66)/(N - 1) - (N*g_22/(N^3 - 4*N^2 + 5*N - 2) - N*g_33/(N - 2) - N*g_62/(N - 1) + g_66)*(g_22/(N^3 - 4*N^2 + 5*N - 2) - g_33/(N^2 - 3*N + 2) - g_55/N - g_62/(N - 1) + g_66/N))*N^3 + 3*N^2*(N*g_22/(N^3 - 4*N^2 + 5*N - 2) - N*g_33/(N - 2) - N*g_62/(N - 1) + g_66)^2"
      ]
     },
     "execution_count": 40,
     "metadata": {},
     "output_type": "execute_result"
    }
   ],
   "source": [
    "## Now we can compute degree 4 expectation values\n",
    "observable_as_set_partition = B[SetPartition([[1],[2],[3],[4],[5],[6],[7],[8]])]\n",
    "fourpoint=kpoint(4)\n",
    "A.inner_prod(observable_as_set_partition, fourpoint)"
   ]
  },
  {
   "cell_type": "code",
   "execution_count": null,
   "metadata": {},
   "outputs": [],
   "source": []
  }
 ],
 "metadata": {
  "kernelspec": {
   "display_name": "SageMath 9.3",
   "language": "sage",
   "name": "sagemath"
  },
  "language_info": {
   "codemirror_mode": {
    "name": "ipython",
    "version": 3
   },
   "file_extension": ".py",
   "mimetype": "text/x-python",
   "name": "python",
   "nbconvert_exporter": "python",
   "pygments_lexer": "ipython3",
   "version": "3.7.10"
  }
 },
 "nbformat": 4,
 "nbformat_minor": 4
}
