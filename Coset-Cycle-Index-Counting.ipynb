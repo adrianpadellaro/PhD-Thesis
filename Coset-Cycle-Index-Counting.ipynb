{
 "cells": [
  {
   "cell_type": "code",
   "execution_count": 137,
   "metadata": {},
   "outputs": [
    {
     "data": {
      "text/plain": [
       "1/2*p[1, 1] + 1/2*p[2]"
      ]
     },
     "execution_count": 137,
     "metadata": {},
     "output_type": "execute_result"
    }
   ],
   "source": [
    "k = 2\n",
    "Z_k = SymmetricGroup(k).cycle_index()\n",
    "Z_k"
   ]
  },
  {
   "cell_type": "code",
   "execution_count": 138,
   "metadata": {},
   "outputs": [],
   "source": [
    "QX = PolynomialRing(QQ, k+1, 'x')"
   ]
  },
  {
   "cell_type": "code",
   "execution_count": 139,
   "metadata": {},
   "outputs": [
    {
     "data": {
      "text/plain": [
       "(x0, x1, x2)"
      ]
     },
     "execution_count": 139,
     "metadata": {},
     "output_type": "execute_result"
    }
   ],
   "source": [
    "QX.gens()"
   ]
  },
  {
   "cell_type": "code",
   "execution_count": 140,
   "metadata": {},
   "outputs": [
    {
     "data": {
      "text/plain": [
       "1/2*x1^2 + 1/2*x2"
      ]
     },
     "execution_count": 140,
     "metadata": {},
     "output_type": "execute_result"
    }
   ],
   "source": [
    "sum(z[1]*prod(QX.gens()[i] for i in z[0]) for z in Z_k)"
   ]
  },
  {
   "cell_type": "code",
   "execution_count": 141,
   "metadata": {},
   "outputs": [],
   "source": [
    "def CycleIndexPolynomial(PolynomialRing, CycleIndex):\n",
    "    return sum(z[1]*prod(PolynomialRing.gens()[i] for i in z[0]) for z in CycleIndex)"
   ]
  },
  {
   "cell_type": "code",
   "execution_count": 142,
   "metadata": {},
   "outputs": [
    {
     "data": {
      "text/plain": [
       "1/2*x1^2 + 1/2*x2"
      ]
     },
     "execution_count": 142,
     "metadata": {},
     "output_type": "execute_result"
    }
   ],
   "source": [
    "CycleIndexPolynomial(QX,Z_k)"
   ]
  },
  {
   "cell_type": "code",
   "execution_count": 143,
   "metadata": {},
   "outputs": [
    {
     "data": {
      "text/plain": [
       "1/2*x3^2 + 1/2*x6"
      ]
     },
     "execution_count": 143,
     "metadata": {},
     "output_type": "execute_result"
    }
   ],
   "source": [
    "i = 3\n",
    "QXX = PolynomialRing(QQ, i*k+1, 'x')\n",
    "sum(z[1]*prod(QXX.gens()[p*i] for p in z[0]) for z in Z_k)"
   ]
  },
  {
   "cell_type": "code",
   "execution_count": 144,
   "metadata": {},
   "outputs": [],
   "source": [
    "def ShiftedCycleIndexPolynomial(PolynomialRing, CycleIndex, Shift):\n",
    "    return sum(z[1]*prod(PolynomialRing.gens()[p*Shift] for p in z[0]) for z in CycleIndex)"
   ]
  },
  {
   "cell_type": "code",
   "execution_count": 145,
   "metadata": {},
   "outputs": [
    {
     "data": {
      "text/plain": [
       "1/2*x3^2 + 1/2*x6"
      ]
     },
     "execution_count": 145,
     "metadata": {},
     "output_type": "execute_result"
    }
   ],
   "source": [
    "ShiftedCycleIndexPolynomial(QXX, Z_k, 3)"
   ]
  },
  {
   "cell_type": "code",
   "execution_count": 146,
   "metadata": {},
   "outputs": [
    {
     "data": {
      "text/plain": [
       "1/48*x1^6 + 1/16*x1^4*x2 + 3/16*x1^2*x2^2 + 7/48*x2^3 + 1/8*x1^2*x4 + 1/6*x3^2 + 1/8*x2*x4 + 1/6*x6"
      ]
     },
     "execution_count": 146,
     "metadata": {},
     "output_type": "execute_result"
    }
   ],
   "source": [
    "l = 3\n",
    "Z_l = SymmetricGroup(l).cycle_index()\n",
    "QXX = PolynomialRing(QQ, l*k+1, 'x')\n",
    "sum(z[1]*prod(ShiftedCycleIndexPolynomial(QXX, Z_k, i) for i in z[0]) for z in Z_l)"
   ]
  },
  {
   "cell_type": "code",
   "execution_count": 159,
   "metadata": {},
   "outputs": [
    {
     "data": {
      "text/plain": [
       "1/384*x1^6*y1^6 + 1/128*x1^4*y1^6*x2 + 1/128*x1^6*y1^4*y2 + 1/128*x1^2*y1^6*x2^2 + 3/128*x1^4*y1^4*x2*y2 + 1/128*x1^6*y1^2*y2^2 + 1/384*y1^6*x2^3 + 3/128*x1^2*y1^4*x2^2*y2 + 3/128*x1^4*y1^2*x2*y2^2 + 1/384*x1^6*y2^3 + 1/128*y1^4*x2^3*y2 + 7/128*x1^2*y1^2*x2^2*y2^2 + 1/128*x1^4*x2*y2^3 + 5/128*y1^2*x2^3*y2^2 + 5/128*x1^2*x2^2*y2^3 + 1/32*x1^2*y1^2*y2^2*x4 + 1/32*x1^2*y1^2*x2^2*y4 + 13/384*x2^3*y2^3 + 1/32*y1^2*x2*y2^2*x4 + 1/32*x1^2*y2^3*x4 + 1/32*y1^2*x2^3*y4 + 1/32*x1^2*x2^2*y2*y4 + 1/32*x1^2*y1^2*x4*y4 + 1/32*x2*y2^3*x4 + 1/32*x2^3*y2*y4 + 1/32*y1^2*x2*x4*y4 + 1/32*x1^2*y2*x4*y4 + 1/12*x3^2*y3^2 + 1/32*x2*y2*x4*y4 + 1/12*y3^2*x6 + 1/12*x3^2*y6 + 1/12*x6*y6"
      ]
     },
     "execution_count": 159,
     "metadata": {},
     "output_type": "execute_result"
    }
   ],
   "source": [
    "QYY = PolynomialRing(QQ, l*k+1, 'y')\n",
    "QXY = PolynomialRing(QQ, l*k+1, var_array=['x','y'])\n",
    "sum(z[1]*prod(QXY.coerce(ShiftedCycleIndexPolynomial(QXX, Z_k, i))*QXY.coerce(ShiftedCycleIndexPolynomial(QYY, Z_k, i))  for i in z[0])  for z in Z_l)"
   ]
  },
  {
   "cell_type": "code",
   "execution_count": 148,
   "metadata": {},
   "outputs": [],
   "source": [
    "def WreathProductCycleIndexPolynomial(l,k_plus, k_minus):\n",
    "    QXX = PolynomialRing(QQ, l*k_plus+1, 'x')\n",
    "    QYY = PolynomialRing(QQ, l*k_minus+1, 'y')\n",
    "    QXY = PolynomialRing(QQ, l*max(k_plus,k_minus)+1, var_array=['x','y'])\n",
    "    Z_l = SymmetricGroup(l).cycle_index()\n",
    "    Z_kplus = SymmetricGroup(k_plus).cycle_index()\n",
    "    Z_kminus = SymmetricGroup(k_minus).cycle_index()\n",
    "    return sum(z[1]*prod(QXY.coerce(ShiftedCycleIndexPolynomial(QXX, Z_kplus, i))*QXY.coerce(ShiftedCycleIndexPolynomial(QYY, Z_kminus, i))  for i in z[0])  for z in Z_l)"
   ]
  },
  {
   "cell_type": "code",
   "execution_count": 160,
   "metadata": {},
   "outputs": [
    {
     "data": {
      "text/plain": [
       "1/384*x1^6*y1^6 + 1/128*x1^4*y1^6*x2 + 1/128*x1^6*y1^4*y2 + 1/128*x1^2*y1^6*x2^2 + 3/128*x1^4*y1^4*x2*y2 + 1/128*x1^6*y1^2*y2^2 + 1/384*y1^6*x2^3 + 3/128*x1^2*y1^4*x2^2*y2 + 3/128*x1^4*y1^2*x2*y2^2 + 1/384*x1^6*y2^3 + 1/128*y1^4*x2^3*y2 + 7/128*x1^2*y1^2*x2^2*y2^2 + 1/128*x1^4*x2*y2^3 + 5/128*y1^2*x2^3*y2^2 + 5/128*x1^2*x2^2*y2^3 + 1/32*x1^2*y1^2*y2^2*x4 + 1/32*x1^2*y1^2*x2^2*y4 + 13/384*x2^3*y2^3 + 1/32*y1^2*x2*y2^2*x4 + 1/32*x1^2*y2^3*x4 + 1/32*y1^2*x2^3*y4 + 1/32*x1^2*x2^2*y2*y4 + 1/32*x1^2*y1^2*x4*y4 + 1/32*x2*y2^3*x4 + 1/32*x2^3*y2*y4 + 1/32*y1^2*x2*x4*y4 + 1/32*x1^2*y2*x4*y4 + 1/12*x3^2*y3^2 + 1/32*x2*y2*x4*y4 + 1/12*y3^2*x6 + 1/12*x3^2*y6 + 1/12*x6*y6"
      ]
     },
     "execution_count": 160,
     "metadata": {},
     "output_type": "execute_result"
    }
   ],
   "source": [
    "WreathProductCycleIndexPolynomial(3,2,2)"
   ]
  },
  {
   "cell_type": "code",
   "execution_count": 150,
   "metadata": {},
   "outputs": [],
   "source": [
    "def vectorpartition_exponential(vector_partition):\n",
    "    j = 0\n",
    "    exp_vec_partition = []\n",
    "    exp_vec_partition = exp_vec_partition + [[1, vector_partition[j]]]\n",
    "    for i in range(1,len(vector_partition)):\n",
    "        if vector_partition[i-1] == vector_partition[i]:\n",
    "            exp_vec_partition[j][0] = exp_vec_partition[j][0]+1\n",
    "        else:\n",
    "            j = j+1\n",
    "            exp_vec_partition = exp_vec_partition + [[1, vector_partition[i]]]\n",
    "    return exp_vec_partition"
   ]
  },
  {
   "cell_type": "code",
   "execution_count": 151,
   "metadata": {},
   "outputs": [
    {
     "data": {
      "text/plain": [
       "[[1, [1, 3]], [2, [3, 2]]]"
      ]
     },
     "execution_count": 151,
     "metadata": {},
     "output_type": "execute_result"
    }
   ],
   "source": [
    "vectorpartition_exp = vectorpartition_exponential(VectorPartition([[3,2],[3,2],[1,3]]))\n",
    "vectorpartition_exp"
   ]
  },
  {
   "cell_type": "code",
   "execution_count": 152,
   "metadata": {},
   "outputs": [
    {
     "data": {
      "text/plain": [
       "1/1728*x1^7*y1^7 + 1/288*x1^5*y1^7*x2 + 5/1728*x1^7*y1^5*y2 + 1/192*x1^3*y1^7*x2^2 + 5/288*x1^5*y1^5*x2*y2 + 7/1728*x1^7*y1^3*y2^2 + 1/432*x1^4*y1^7*x3 + 1/864*x1^7*y1^4*y3 + 5/192*x1^3*y1^5*x2^2*y2 + 7/288*x1^5*y1^3*x2*y2^2 + 1/576*x1^7*y1*y2^3 + 1/144*x1^2*y1^7*x2*x3 + 5/432*x1^4*y1^5*y2*x3 + 1/144*x1^5*y1^4*x2*y3 + 1/432*x1^7*y1^2*y2*y3 + 7/192*x1^3*y1^3*x2^2*y2^2 + 1/96*x1^5*y1*x2*y2^3 + 5/144*x1^2*y1^5*x2*y2*x3 + 7/432*x1^4*y1^3*y2^2*x3 + 1/432*x1*y1^7*x3^2 + 1/96*x1^3*y1^4*x2^2*y3 + 1/72*x1^5*y1^2*x2*y2*y3 + 1/864*x1^7*y2^2*y3 + 1/216*x1^4*y1^4*x3*y3 + 1/144*x1*y1^3*x2^3*y2^2 + 1/64*x1^3*y1*x2^2*y2^3 + 7/144*x1^2*y1^3*x2*y2^2*x3 + 1/144*x1^4*y1*y2^3*x3 + 5/432*x1*y1^5*y2*x3^2 + 1/48*x1^3*y1^2*x2^2*y2*y3 + 1/144*x1^5*x2*y2^2*y3 + 1/72*x1^2*y1^4*x2*x3*y3 + 1/108*x1^4*y1^2*y2*x3*y3 + 1/48*x1*y1*x2^3*y2^3 + 1/48*x1^2*y1*x2*y2^3*x3 + 7/432*x1*y1^3*y2^2*x3^2 + 1/96*x1^3*x2^2*y2^2*y3 + 1/36*x1^2*y1^2*x2*y2*x3*y3 + 1/216*x1^4*y2^2*x3*y3 + 1/216*x1*y1^4*x3^2*y3 + 1/48*x1*y1^3*x2*y2^2*x4 + 1/144*x1*y1^3*x2^3*y4 + 1/144*x1*y1*y2^3*x3^2 + 1/72*x1*x2^3*y2^2*y3 + 1/72*x1^2*x2*y2^2*x3*y3 + 1/108*x1*y1^2*y2*x3^2*y3 + 1/16*x1*y1*x2*y2^3*x4 + 1/48*x1*y1*x2^3*y2*y4 + 1/48*x1*y1^3*x2*x4*y4 + 1/72*x1*y1^3*y2^2*x6 + 1/216*x1*y2^2*x3^2*y3 + 1/24*x1*x2*y2^2*y3*x4 + 1/72*x1*x2^3*y3*y4 + 1/16*x1*y1*x2*y2*x4*y4 + 1/24*x1*y1*y2^3*x6 + 1/72*x1*y1^3*y4*x6 + 1/24*x1*x2*y3*x4*y4 + 1/36*x1*y2^2*y3*x6 + 1/24*x1*y1*y2*y4*x6 + 1/36*x1*y3*y4*x6"
      ]
     },
     "execution_count": 152,
     "metadata": {},
     "output_type": "execute_result"
    }
   ],
   "source": [
    "Z_G = prod(WreathProductCycleIndexPolynomial(v[0],v[1][0], v[1][1]) for v in vectorpartition_exp)\n",
    "Z_G"
   ]
  },
  {
   "cell_type": "code",
   "execution_count": 153,
   "metadata": {},
   "outputs": [],
   "source": [
    "def monomial_coefficient_of_ZG(vectorpartition, partition):\n",
    "    vectorpartition_exp = vectorpartition_exponential(vectorpartition)\n",
    "    k_plus = vectorpartition.sum()[0]\n",
    "    k_minus = vectorpartition.sum()[1]\n",
    "    QXX = PolynomialRing(QQ, 2*k_plus+1, 'x')\n",
    "    QYY = PolynomialRing(QQ, 2*k_minus+1, 'y')\n",
    "    QXY = PolynomialRing(QQ, 2*max(k_plus,k_minus)+1, var_array=['x','y'])\n",
    "    X_monomial = prod(QXX.gens()[i] for i in partition)\n",
    "    Y_monomial = prod(QYY.gens()[i] for i in partition)\n",
    "    XY_monomial = QXY.coerce(X_monomial)*QXY.coerce(Y_monomial)\n",
    "    Z_G = QXY.coerce(prod(WreathProductCycleIndexPolynomial(v[0],v[1][0], v[1][1]) for v in vectorpartition_exp))\n",
    "    return Z_G.monomial_coefficient(XY_monomial)"
   ]
  },
  {
   "cell_type": "code",
   "execution_count": 154,
   "metadata": {},
   "outputs": [
    {
     "data": {
      "text/plain": [
       "1/1728"
      ]
     },
     "execution_count": 154,
     "metadata": {},
     "output_type": "execute_result"
    }
   ],
   "source": [
    "monomial_coefficient_of_ZG(VectorPartition([[3,2],[3,2],[1,3]]), Partition([1,1,1,1,1,1,1]))"
   ]
  },
  {
   "cell_type": "code",
   "execution_count": 155,
   "metadata": {},
   "outputs": [
    {
     "data": {
      "text/plain": [
       "5/288"
      ]
     },
     "execution_count": 155,
     "metadata": {},
     "output_type": "execute_result"
    }
   ],
   "source": [
    "monomial_coefficient_of_ZG(VectorPartition([[3,2],[3,2],[1,3]]), Partition([2,1,1,1,1,1]))"
   ]
  },
  {
   "cell_type": "code",
   "execution_count": 156,
   "metadata": {},
   "outputs": [
    {
     "data": {
      "text/plain": [
       "11"
      ]
     },
     "execution_count": 156,
     "metadata": {},
     "output_type": "execute_result"
    }
   ],
   "source": [
    "sum(partition.aut()*monomial_coefficient_of_ZG(VectorPartition([[3,2],[3,2],[1,3]]), partition) for partition in Partitions(7))"
   ]
  },
  {
   "cell_type": "code",
   "execution_count": 161,
   "metadata": {},
   "outputs": [],
   "source": [
    "def number_of_double_cosets(vectorpartition):\n",
    "    k = vectorpartition.sum()[0]\n",
    "    return sum(partition.aut()*monomial_coefficient_of_ZG(vectorpartition, partition) for partition in Partitions(k))"
   ]
  },
  {
   "cell_type": "code",
   "execution_count": 166,
   "metadata": {},
   "outputs": [
    {
     "data": {
      "text/plain": [
       "[1, 18, 71, 108, 71, 22, 4, 1]"
      ]
     },
     "execution_count": 166,
     "metadata": {},
     "output_type": "execute_result"
    }
   ],
   "source": [
    "k = 4\n",
    "list(sum(number_of_double_cosets(v)for v in VectorPartitions([k,k])  if len(v) == l) for l in [1..2*k])"
   ]
  }
 ],
 "metadata": {
  "kernelspec": {
   "display_name": "SageMath 9.3",
   "language": "sage",
   "name": "sagemath"
  },
  "language_info": {
   "codemirror_mode": {
    "name": "ipython",
    "version": 3
   },
   "file_extension": ".py",
   "mimetype": "text/x-python",
   "name": "python",
   "nbconvert_exporter": "python",
   "pygments_lexer": "ipython3",
   "version": "3.7.10"
  }
 },
 "nbformat": 4,
 "nbformat_minor": 2
}
